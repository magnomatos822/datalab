{
 "cells": [
  {
   "cell_type": "markdown",
   "id": "8ccc7c0c",
   "metadata": {},
   "source": [
    "# Credenciais de Acesso do DataLab\n",
    "\n",
    "Este notebook contém as informações de acesso ao JupyterHub."
   ]
  },
  {
   "cell_type": "markdown",
   "id": "85d75cae",
   "metadata": {},
   "source": [
    "## Credenciais do JupyterHub\n",
    "\n",
    "### Usuários e Senhas:\n",
    "\n",
    "| Usuário | Senha | Tipo |\n",
    "|---------|-------|------|\n",
    "| magnomatos822 | datalab | Usuário padrão |\n",
    "| admin | datalab | Administrador |"
   ]
  },
  {
   "cell_type": "code",
   "execution_count": null,
   "id": "4dd65d4d",
   "metadata": {},
   "outputs": [],
   "source": [
    "import sys\n",
    "import platform\n",
    "import pandas as pd\n",
    "from IPython.display import display, HTML\n",
    "\n",
    "print(f\"Python version: {platform.python_version()}\")\n",
    "print(f\"Jupyter kernel: {sys.executable}\")\n",
    "print(\"\\nPacotes instalados mais relevantes para análise de dados:\")\n",
    "\n",
    "try:\n",
    "    import pkg_resources\n",
    "\n",
    "    packages = [\n",
    "        \"pandas\",\n",
    "        \"numpy\",\n",
    "        \"matplotlib\",\n",
    "        \"seaborn\",\n",
    "        \"scikit-learn\",\n",
    "        \"pyspark\",\n",
    "        \"tensorflow\",\n",
    "        \"pytorch\",\n",
    "        \"plotly\",\n",
    "    ]\n",
    "    versions = []\n",
    "\n",
    "    for package in packages:\n",
    "        try:\n",
    "            version = pkg_resources.get_distribution(package).version\n",
    "            versions.append({\"Pacote\": package, \"Versão\": version})\n",
    "        except pkg_resources.DistributionNotFound:\n",
    "            versions.append({\"Pacote\": package, \"Versão\": \"Não instalado\"})\n",
    "\n",
    "    df_packages = pd.DataFrame(versions)\n",
    "    display(HTML(df_packages.to_html(index=False)))\n",
    "except Exception as e:\n",
    "    print(f\"Erro ao verificar pacotes: {e}\")"
   ]
  }
 ],
 "metadata": {
  "language_info": {
   "name": "python"
  }
 },
 "nbformat": 4,
 "nbformat_minor": 5
}
